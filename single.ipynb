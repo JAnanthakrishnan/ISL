{
 "metadata": {
  "language_info": {
   "codemirror_mode": {
    "name": "ipython",
    "version": 3
   },
   "file_extension": ".py",
   "mimetype": "text/x-python",
   "name": "python",
   "nbconvert_exporter": "python",
   "pygments_lexer": "ipython3",
   "version": "3.8.10"
  },
  "orig_nbformat": 4,
  "kernelspec": {
   "name": "python3",
   "display_name": "Python 3.8.10 64-bit ('detection': venv)"
  },
  "interpreter": {
   "hash": "440c698ec8b8a69af1e9b5858727a1caa350ff4b90553ff4af986ab12665a01c"
  }
 },
 "nbformat": 4,
 "nbformat_minor": 2,
 "cells": [
  {
   "cell_type": "code",
   "execution_count": 1,
   "metadata": {},
   "outputs": [],
   "source": [
    "import numpy as np\n",
    "import pandas as pd\n",
    "import matplotlib.pyplot as plt\n",
    "import seaborn as sns \n",
    "from sklearn.metrics import confusion_matrix\n",
    "from sklearn.metrics import accuracy_score\n",
    "import sys\n",
    "import warnings\n",
    "\n",
    "if not sys.warnoptions:\n",
    "    warnings.simplefilter(\"ignore\")"
   ]
  },
  {
   "cell_type": "code",
   "execution_count": 2,
   "metadata": {},
   "outputs": [],
   "source": [
    "data = pd.read_csv('data/single.csv')"
   ]
  },
  {
   "cell_type": "code",
   "execution_count": 3,
   "metadata": {},
   "outputs": [
    {
     "output_type": "execute_result",
     "data": {
      "text/plain": [
       "    WRIST_x   WRIST_y   WRIST_z  THUMB_CMC_x  THUMB_CMC_y  THUMB_CMC_z  \\\n",
       "0  0.508492  0.796419 -0.000384     0.554401     0.677438    -0.150904   \n",
       "1  0.512087  0.803162 -0.000436     0.547700     0.674914    -0.141695   \n",
       "2  0.503681  0.794522 -0.000357     0.540451     0.685222    -0.155178   \n",
       "3  0.522296  0.782431 -0.000211     0.559571     0.664316    -0.159767   \n",
       "4  0.486943  0.864389 -0.000385     0.560643     0.714334    -0.179251   \n",
       "\n",
       "   THUMB_MCP_x  THUMB_MCP_y  THUMB_MCP_z  THUMB_IP_x  ...  PINKY_PIP_x  \\\n",
       "0     0.563549     0.560108    -0.302531    0.521770  ...     0.334175   \n",
       "1     0.549658     0.557700    -0.279454    0.505674  ...     0.343675   \n",
       "2     0.546599     0.568577    -0.297065    0.511923  ...     0.363206   \n",
       "3     0.537245     0.522293    -0.265336    0.515844  ...     0.364128   \n",
       "4     0.580173     0.565320    -0.341146    0.509371  ...     0.231761   \n",
       "\n",
       "   PINKY_PIP_y  PINKY_PIP_z  PINKY_DIP_x  PINKY_DIP_y  PINKY_DIP_z  \\\n",
       "0     0.577611    -0.375620     0.410385     0.567276    -0.364341   \n",
       "1     0.575700    -0.344823     0.419720     0.561450    -0.333656   \n",
       "2     0.550951    -0.389180     0.435049     0.532251    -0.389485   \n",
       "3     0.601349    -0.360574     0.430683     0.565619    -0.390892   \n",
       "4     0.654889    -0.421760     0.303781     0.707887    -0.427897   \n",
       "\n",
       "   PINKY_TIP_x  PINKY_TIP_y  PINKY_TIP_z  CLASS  \n",
       "0     0.449792     0.533187    -0.341445      1  \n",
       "1     0.462066     0.529065    -0.307563      1  \n",
       "2     0.472499     0.492018    -0.373515      1  \n",
       "3     0.465978     0.516874    -0.398712      1  \n",
       "4     0.340548     0.732022    -0.412179      1  \n",
       "\n",
       "[5 rows x 64 columns]"
      ],
      "text/html": "<div>\n<style scoped>\n    .dataframe tbody tr th:only-of-type {\n        vertical-align: middle;\n    }\n\n    .dataframe tbody tr th {\n        vertical-align: top;\n    }\n\n    .dataframe thead th {\n        text-align: right;\n    }\n</style>\n<table border=\"1\" class=\"dataframe\">\n  <thead>\n    <tr style=\"text-align: right;\">\n      <th></th>\n      <th>WRIST_x</th>\n      <th>WRIST_y</th>\n      <th>WRIST_z</th>\n      <th>THUMB_CMC_x</th>\n      <th>THUMB_CMC_y</th>\n      <th>THUMB_CMC_z</th>\n      <th>THUMB_MCP_x</th>\n      <th>THUMB_MCP_y</th>\n      <th>THUMB_MCP_z</th>\n      <th>THUMB_IP_x</th>\n      <th>...</th>\n      <th>PINKY_PIP_x</th>\n      <th>PINKY_PIP_y</th>\n      <th>PINKY_PIP_z</th>\n      <th>PINKY_DIP_x</th>\n      <th>PINKY_DIP_y</th>\n      <th>PINKY_DIP_z</th>\n      <th>PINKY_TIP_x</th>\n      <th>PINKY_TIP_y</th>\n      <th>PINKY_TIP_z</th>\n      <th>CLASS</th>\n    </tr>\n  </thead>\n  <tbody>\n    <tr>\n      <th>0</th>\n      <td>0.508492</td>\n      <td>0.796419</td>\n      <td>-0.000384</td>\n      <td>0.554401</td>\n      <td>0.677438</td>\n      <td>-0.150904</td>\n      <td>0.563549</td>\n      <td>0.560108</td>\n      <td>-0.302531</td>\n      <td>0.521770</td>\n      <td>...</td>\n      <td>0.334175</td>\n      <td>0.577611</td>\n      <td>-0.375620</td>\n      <td>0.410385</td>\n      <td>0.567276</td>\n      <td>-0.364341</td>\n      <td>0.449792</td>\n      <td>0.533187</td>\n      <td>-0.341445</td>\n      <td>1</td>\n    </tr>\n    <tr>\n      <th>1</th>\n      <td>0.512087</td>\n      <td>0.803162</td>\n      <td>-0.000436</td>\n      <td>0.547700</td>\n      <td>0.674914</td>\n      <td>-0.141695</td>\n      <td>0.549658</td>\n      <td>0.557700</td>\n      <td>-0.279454</td>\n      <td>0.505674</td>\n      <td>...</td>\n      <td>0.343675</td>\n      <td>0.575700</td>\n      <td>-0.344823</td>\n      <td>0.419720</td>\n      <td>0.561450</td>\n      <td>-0.333656</td>\n      <td>0.462066</td>\n      <td>0.529065</td>\n      <td>-0.307563</td>\n      <td>1</td>\n    </tr>\n    <tr>\n      <th>2</th>\n      <td>0.503681</td>\n      <td>0.794522</td>\n      <td>-0.000357</td>\n      <td>0.540451</td>\n      <td>0.685222</td>\n      <td>-0.155178</td>\n      <td>0.546599</td>\n      <td>0.568577</td>\n      <td>-0.297065</td>\n      <td>0.511923</td>\n      <td>...</td>\n      <td>0.363206</td>\n      <td>0.550951</td>\n      <td>-0.389180</td>\n      <td>0.435049</td>\n      <td>0.532251</td>\n      <td>-0.389485</td>\n      <td>0.472499</td>\n      <td>0.492018</td>\n      <td>-0.373515</td>\n      <td>1</td>\n    </tr>\n    <tr>\n      <th>3</th>\n      <td>0.522296</td>\n      <td>0.782431</td>\n      <td>-0.000211</td>\n      <td>0.559571</td>\n      <td>0.664316</td>\n      <td>-0.159767</td>\n      <td>0.537245</td>\n      <td>0.522293</td>\n      <td>-0.265336</td>\n      <td>0.515844</td>\n      <td>...</td>\n      <td>0.364128</td>\n      <td>0.601349</td>\n      <td>-0.360574</td>\n      <td>0.430683</td>\n      <td>0.565619</td>\n      <td>-0.390892</td>\n      <td>0.465978</td>\n      <td>0.516874</td>\n      <td>-0.398712</td>\n      <td>1</td>\n    </tr>\n    <tr>\n      <th>4</th>\n      <td>0.486943</td>\n      <td>0.864389</td>\n      <td>-0.000385</td>\n      <td>0.560643</td>\n      <td>0.714334</td>\n      <td>-0.179251</td>\n      <td>0.580173</td>\n      <td>0.565320</td>\n      <td>-0.341146</td>\n      <td>0.509371</td>\n      <td>...</td>\n      <td>0.231761</td>\n      <td>0.654889</td>\n      <td>-0.421760</td>\n      <td>0.303781</td>\n      <td>0.707887</td>\n      <td>-0.427897</td>\n      <td>0.340548</td>\n      <td>0.732022</td>\n      <td>-0.412179</td>\n      <td>1</td>\n    </tr>\n  </tbody>\n</table>\n<p>5 rows × 64 columns</p>\n</div>"
     },
     "metadata": {},
     "execution_count": 3
    }
   ],
   "source": [
    "data.head()"
   ]
  },
  {
   "cell_type": "code",
   "execution_count": 4,
   "metadata": {},
   "outputs": [],
   "source": [
    "data =data.fillna(0)"
   ]
  },
  {
   "cell_type": "code",
   "execution_count": 5,
   "metadata": {},
   "outputs": [],
   "source": [
    "data['CLASS'] = data['CLASS'].replace({\n",
    "    '1':1,\n",
    "    '2':2,\n",
    "    '3':3,\n",
    "    '4':4,\n",
    "    '5':5,\n",
    "    '6':6,\n",
    "    '7':7,\n",
    "    '8':8,\n",
    "    '9':9,\n",
    "    'A':10,\n",
    "    'B':11,\n",
    "    'C':12,\n",
    "    'D':13,\n",
    "    'E':14,\n",
    "    'F':15,\n",
    "    'G':16,\n",
    "    'H':17,\n",
    "    'I':18,\n",
    "    'J':19,\n",
    "    'K':20,\n",
    "    'L':21,\n",
    "    'M':22,\n",
    "    'N':23,\n",
    "    'O':24,\n",
    "    'P':25,\n",
    "    'Q':26,\n",
    "    'R':27,\n",
    "    'S':28,\n",
    "    'T':29,\n",
    "    'U':30,\n",
    "    'V':31,\n",
    "    'W':32,\n",
    "    'X':33,\n",
    "    'Y':34,\n",
    "    'Z':35\n",
    "})"
   ]
  },
  {
   "cell_type": "code",
   "execution_count": 6,
   "metadata": {},
   "outputs": [],
   "source": [
    "X = data.copy()"
   ]
  },
  {
   "cell_type": "code",
   "execution_count": 7,
   "metadata": {},
   "outputs": [
    {
     "output_type": "execute_result",
     "data": {
      "text/plain": [
       "        WRIST_x   WRIST_y   WRIST_z  THUMB_CMC_x  THUMB_CMC_y  THUMB_CMC_z  \\\n",
       "0      0.508492  0.796419 -0.000384     0.554401     0.677438    -0.150904   \n",
       "1      0.512087  0.803162 -0.000436     0.547700     0.674914    -0.141695   \n",
       "2      0.503681  0.794522 -0.000357     0.540451     0.685222    -0.155178   \n",
       "3      0.522296  0.782431 -0.000211     0.559571     0.664316    -0.159767   \n",
       "4      0.486943  0.864389 -0.000385     0.560643     0.714334    -0.179251   \n",
       "...         ...       ...       ...          ...          ...          ...   \n",
       "17277  0.499351  0.779465 -0.000266     0.607964     0.679596     0.023837   \n",
       "17278  0.485918  0.800466 -0.000150     0.600437     0.674523     0.050803   \n",
       "17279  0.503772  0.768210 -0.000221     0.614549     0.686530     0.023255   \n",
       "17280  0.521569  0.805201 -0.000197     0.470532     0.747638     0.044567   \n",
       "17281  0.475984  0.790486 -0.000197     0.601566     0.696751     0.046997   \n",
       "\n",
       "       THUMB_MCP_x  THUMB_MCP_y  THUMB_MCP_z  THUMB_IP_x  ...  PINKY_PIP_x  \\\n",
       "0         0.563549     0.560108    -0.302531    0.521770  ...     0.334175   \n",
       "1         0.549658     0.557700    -0.279454    0.505674  ...     0.343675   \n",
       "2         0.546599     0.568577    -0.297065    0.511923  ...     0.363206   \n",
       "3         0.537245     0.522293    -0.265336    0.515844  ...     0.364128   \n",
       "4         0.580173     0.565320    -0.341146    0.509371  ...     0.231761   \n",
       "...            ...          ...          ...         ...  ...          ...   \n",
       "17277     0.621648     0.549566    -0.031266    0.576181  ...     0.372192   \n",
       "17278     0.633013     0.539576    -0.001887    0.575582  ...     0.343868   \n",
       "17279     0.627926     0.566838    -0.017984    0.577039  ...     0.357098   \n",
       "17280     0.440813     0.619145     0.019861    0.432410  ...     0.479787   \n",
       "17281     0.640941     0.576457     0.010070    0.598926  ...     0.349892   \n",
       "\n",
       "       PINKY_PIP_y  PINKY_PIP_z  PINKY_DIP_x  PINKY_DIP_y  PINKY_DIP_z  \\\n",
       "0         0.577611    -0.375620     0.410385     0.567276    -0.364341   \n",
       "1         0.575700    -0.344823     0.419720     0.561450    -0.333656   \n",
       "2         0.550951    -0.389180     0.435049     0.532251    -0.389485   \n",
       "3         0.601349    -0.360574     0.430683     0.565619    -0.390892   \n",
       "4         0.654889    -0.421760     0.303781     0.707887    -0.427897   \n",
       "...            ...          ...          ...          ...          ...   \n",
       "17277     0.506430    -0.167713     0.409741     0.546717    -0.094009   \n",
       "17278     0.503991    -0.113871     0.388548     0.542132    -0.046105   \n",
       "17279     0.510633    -0.153518     0.390716     0.550789    -0.082246   \n",
       "17280     0.451270    -0.149601     0.506812     0.400481    -0.158573   \n",
       "17281     0.517314    -0.100352     0.389310     0.559197    -0.038912   \n",
       "\n",
       "       PINKY_TIP_x  PINKY_TIP_y  PINKY_TIP_z  CLASS  \n",
       "0         0.449792     0.533187    -0.341445      1  \n",
       "1         0.462066     0.529065    -0.307563      1  \n",
       "2         0.472499     0.492018    -0.373515      1  \n",
       "3         0.465978     0.516874    -0.398712      1  \n",
       "4         0.340548     0.732022    -0.412179      1  \n",
       "...            ...          ...          ...    ...  \n",
       "17277     0.419175     0.594607    -0.062159     31  \n",
       "17278     0.417052     0.595180    -0.015246     31  \n",
       "17279     0.400652     0.597682    -0.055214     31  \n",
       "17280     0.533713     0.341693    -0.202990     31  \n",
       "17281     0.411970     0.613121    -0.013635     31  \n",
       "\n",
       "[17282 rows x 64 columns]"
      ],
      "text/html": "<div>\n<style scoped>\n    .dataframe tbody tr th:only-of-type {\n        vertical-align: middle;\n    }\n\n    .dataframe tbody tr th {\n        vertical-align: top;\n    }\n\n    .dataframe thead th {\n        text-align: right;\n    }\n</style>\n<table border=\"1\" class=\"dataframe\">\n  <thead>\n    <tr style=\"text-align: right;\">\n      <th></th>\n      <th>WRIST_x</th>\n      <th>WRIST_y</th>\n      <th>WRIST_z</th>\n      <th>THUMB_CMC_x</th>\n      <th>THUMB_CMC_y</th>\n      <th>THUMB_CMC_z</th>\n      <th>THUMB_MCP_x</th>\n      <th>THUMB_MCP_y</th>\n      <th>THUMB_MCP_z</th>\n      <th>THUMB_IP_x</th>\n      <th>...</th>\n      <th>PINKY_PIP_x</th>\n      <th>PINKY_PIP_y</th>\n      <th>PINKY_PIP_z</th>\n      <th>PINKY_DIP_x</th>\n      <th>PINKY_DIP_y</th>\n      <th>PINKY_DIP_z</th>\n      <th>PINKY_TIP_x</th>\n      <th>PINKY_TIP_y</th>\n      <th>PINKY_TIP_z</th>\n      <th>CLASS</th>\n    </tr>\n  </thead>\n  <tbody>\n    <tr>\n      <th>0</th>\n      <td>0.508492</td>\n      <td>0.796419</td>\n      <td>-0.000384</td>\n      <td>0.554401</td>\n      <td>0.677438</td>\n      <td>-0.150904</td>\n      <td>0.563549</td>\n      <td>0.560108</td>\n      <td>-0.302531</td>\n      <td>0.521770</td>\n      <td>...</td>\n      <td>0.334175</td>\n      <td>0.577611</td>\n      <td>-0.375620</td>\n      <td>0.410385</td>\n      <td>0.567276</td>\n      <td>-0.364341</td>\n      <td>0.449792</td>\n      <td>0.533187</td>\n      <td>-0.341445</td>\n      <td>1</td>\n    </tr>\n    <tr>\n      <th>1</th>\n      <td>0.512087</td>\n      <td>0.803162</td>\n      <td>-0.000436</td>\n      <td>0.547700</td>\n      <td>0.674914</td>\n      <td>-0.141695</td>\n      <td>0.549658</td>\n      <td>0.557700</td>\n      <td>-0.279454</td>\n      <td>0.505674</td>\n      <td>...</td>\n      <td>0.343675</td>\n      <td>0.575700</td>\n      <td>-0.344823</td>\n      <td>0.419720</td>\n      <td>0.561450</td>\n      <td>-0.333656</td>\n      <td>0.462066</td>\n      <td>0.529065</td>\n      <td>-0.307563</td>\n      <td>1</td>\n    </tr>\n    <tr>\n      <th>2</th>\n      <td>0.503681</td>\n      <td>0.794522</td>\n      <td>-0.000357</td>\n      <td>0.540451</td>\n      <td>0.685222</td>\n      <td>-0.155178</td>\n      <td>0.546599</td>\n      <td>0.568577</td>\n      <td>-0.297065</td>\n      <td>0.511923</td>\n      <td>...</td>\n      <td>0.363206</td>\n      <td>0.550951</td>\n      <td>-0.389180</td>\n      <td>0.435049</td>\n      <td>0.532251</td>\n      <td>-0.389485</td>\n      <td>0.472499</td>\n      <td>0.492018</td>\n      <td>-0.373515</td>\n      <td>1</td>\n    </tr>\n    <tr>\n      <th>3</th>\n      <td>0.522296</td>\n      <td>0.782431</td>\n      <td>-0.000211</td>\n      <td>0.559571</td>\n      <td>0.664316</td>\n      <td>-0.159767</td>\n      <td>0.537245</td>\n      <td>0.522293</td>\n      <td>-0.265336</td>\n      <td>0.515844</td>\n      <td>...</td>\n      <td>0.364128</td>\n      <td>0.601349</td>\n      <td>-0.360574</td>\n      <td>0.430683</td>\n      <td>0.565619</td>\n      <td>-0.390892</td>\n      <td>0.465978</td>\n      <td>0.516874</td>\n      <td>-0.398712</td>\n      <td>1</td>\n    </tr>\n    <tr>\n      <th>4</th>\n      <td>0.486943</td>\n      <td>0.864389</td>\n      <td>-0.000385</td>\n      <td>0.560643</td>\n      <td>0.714334</td>\n      <td>-0.179251</td>\n      <td>0.580173</td>\n      <td>0.565320</td>\n      <td>-0.341146</td>\n      <td>0.509371</td>\n      <td>...</td>\n      <td>0.231761</td>\n      <td>0.654889</td>\n      <td>-0.421760</td>\n      <td>0.303781</td>\n      <td>0.707887</td>\n      <td>-0.427897</td>\n      <td>0.340548</td>\n      <td>0.732022</td>\n      <td>-0.412179</td>\n      <td>1</td>\n    </tr>\n    <tr>\n      <th>...</th>\n      <td>...</td>\n      <td>...</td>\n      <td>...</td>\n      <td>...</td>\n      <td>...</td>\n      <td>...</td>\n      <td>...</td>\n      <td>...</td>\n      <td>...</td>\n      <td>...</td>\n      <td>...</td>\n      <td>...</td>\n      <td>...</td>\n      <td>...</td>\n      <td>...</td>\n      <td>...</td>\n      <td>...</td>\n      <td>...</td>\n      <td>...</td>\n      <td>...</td>\n      <td>...</td>\n    </tr>\n    <tr>\n      <th>17277</th>\n      <td>0.499351</td>\n      <td>0.779465</td>\n      <td>-0.000266</td>\n      <td>0.607964</td>\n      <td>0.679596</td>\n      <td>0.023837</td>\n      <td>0.621648</td>\n      <td>0.549566</td>\n      <td>-0.031266</td>\n      <td>0.576181</td>\n      <td>...</td>\n      <td>0.372192</td>\n      <td>0.506430</td>\n      <td>-0.167713</td>\n      <td>0.409741</td>\n      <td>0.546717</td>\n      <td>-0.094009</td>\n      <td>0.419175</td>\n      <td>0.594607</td>\n      <td>-0.062159</td>\n      <td>31</td>\n    </tr>\n    <tr>\n      <th>17278</th>\n      <td>0.485918</td>\n      <td>0.800466</td>\n      <td>-0.000150</td>\n      <td>0.600437</td>\n      <td>0.674523</td>\n      <td>0.050803</td>\n      <td>0.633013</td>\n      <td>0.539576</td>\n      <td>-0.001887</td>\n      <td>0.575582</td>\n      <td>...</td>\n      <td>0.343868</td>\n      <td>0.503991</td>\n      <td>-0.113871</td>\n      <td>0.388548</td>\n      <td>0.542132</td>\n      <td>-0.046105</td>\n      <td>0.417052</td>\n      <td>0.595180</td>\n      <td>-0.015246</td>\n      <td>31</td>\n    </tr>\n    <tr>\n      <th>17279</th>\n      <td>0.503772</td>\n      <td>0.768210</td>\n      <td>-0.000221</td>\n      <td>0.614549</td>\n      <td>0.686530</td>\n      <td>0.023255</td>\n      <td>0.627926</td>\n      <td>0.566838</td>\n      <td>-0.017984</td>\n      <td>0.577039</td>\n      <td>...</td>\n      <td>0.357098</td>\n      <td>0.510633</td>\n      <td>-0.153518</td>\n      <td>0.390716</td>\n      <td>0.550789</td>\n      <td>-0.082246</td>\n      <td>0.400652</td>\n      <td>0.597682</td>\n      <td>-0.055214</td>\n      <td>31</td>\n    </tr>\n    <tr>\n      <th>17280</th>\n      <td>0.521569</td>\n      <td>0.805201</td>\n      <td>-0.000197</td>\n      <td>0.470532</td>\n      <td>0.747638</td>\n      <td>0.044567</td>\n      <td>0.440813</td>\n      <td>0.619145</td>\n      <td>0.019861</td>\n      <td>0.432410</td>\n      <td>...</td>\n      <td>0.479787</td>\n      <td>0.451270</td>\n      <td>-0.149601</td>\n      <td>0.506812</td>\n      <td>0.400481</td>\n      <td>-0.158573</td>\n      <td>0.533713</td>\n      <td>0.341693</td>\n      <td>-0.202990</td>\n      <td>31</td>\n    </tr>\n    <tr>\n      <th>17281</th>\n      <td>0.475984</td>\n      <td>0.790486</td>\n      <td>-0.000197</td>\n      <td>0.601566</td>\n      <td>0.696751</td>\n      <td>0.046997</td>\n      <td>0.640941</td>\n      <td>0.576457</td>\n      <td>0.010070</td>\n      <td>0.598926</td>\n      <td>...</td>\n      <td>0.349892</td>\n      <td>0.517314</td>\n      <td>-0.100352</td>\n      <td>0.389310</td>\n      <td>0.559197</td>\n      <td>-0.038912</td>\n      <td>0.411970</td>\n      <td>0.613121</td>\n      <td>-0.013635</td>\n      <td>31</td>\n    </tr>\n  </tbody>\n</table>\n<p>17282 rows × 64 columns</p>\n</div>"
     },
     "metadata": {},
     "execution_count": 7
    }
   ],
   "source": [
    "X"
   ]
  },
  {
   "cell_type": "code",
   "execution_count": 8,
   "metadata": {},
   "outputs": [],
   "source": [
    "y = X.pop('CLASS')"
   ]
  },
  {
   "cell_type": "code",
   "execution_count": 9,
   "metadata": {},
   "outputs": [
    {
     "output_type": "execute_result",
     "data": {
      "text/plain": [
       "array([ 1,  2,  3,  4,  5,  6,  7,  8,  9, 12, 18, 21, 24, 30, 31],\n",
       "      dtype=int64)"
      ]
     },
     "metadata": {},
     "execution_count": 9
    }
   ],
   "source": [
    "y.unique()"
   ]
  },
  {
   "cell_type": "code",
   "execution_count": 10,
   "metadata": {},
   "outputs": [],
   "source": [
    "from sklearn.model_selection import train_test_split\n",
    "X_train,X_test,y_train,y_test=train_test_split(X,y,stratify=y,test_size=0.3)"
   ]
  },
  {
   "cell_type": "code",
   "execution_count": 12,
   "metadata": {},
   "outputs": [
    {
     "output_type": "execute_result",
     "data": {
      "text/plain": [
       "LogisticRegression(max_iter=120)"
      ]
     },
     "metadata": {},
     "execution_count": 12
    }
   ],
   "source": [
    "from sklearn.linear_model import LogisticRegression\n",
    "lmodel = LogisticRegression(max_iter=120)\n",
    "lmodel.fit(X_train,y_train)"
   ]
  },
  {
   "cell_type": "code",
   "execution_count": 13,
   "metadata": {},
   "outputs": [
    {
     "output_type": "execute_result",
     "data": {
      "text/plain": [
       "array([ 1,  1, 21, ..., 24, 18,  6], dtype=int64)"
      ]
     },
     "metadata": {},
     "execution_count": 13
    }
   ],
   "source": [
    "lmodel.predict(X_test)"
   ]
  },
  {
   "cell_type": "code",
   "execution_count": 14,
   "metadata": {},
   "outputs": [
    {
     "output_type": "execute_result",
     "data": {
      "text/plain": [
       "0.989778206364513"
      ]
     },
     "metadata": {},
     "execution_count": 14
    }
   ],
   "source": [
    "lmodel.score(X_test,y_test)"
   ]
  },
  {
   "cell_type": "code",
   "execution_count": 15,
   "metadata": {},
   "outputs": [
    {
     "output_type": "execute_result",
     "data": {
      "text/plain": [
       "SVC(kernel='linear')"
      ]
     },
     "metadata": {},
     "execution_count": 15
    }
   ],
   "source": [
    "from sklearn import svm\n",
    "clf = svm.SVC(kernel='linear') # Linear Kernel\n",
    "clf.fit(X_train, y_train)"
   ]
  },
  {
   "cell_type": "code",
   "execution_count": 16,
   "metadata": {},
   "outputs": [],
   "source": [
    "y_pred = clf.predict(X_test)"
   ]
  },
  {
   "cell_type": "code",
   "execution_count": 17,
   "metadata": {},
   "outputs": [
    {
     "output_type": "stream",
     "name": "stdout",
     "text": [
      "Accuracy: 0.9957569913211186\n"
     ]
    }
   ],
   "source": [
    "from sklearn import metrics\n",
    "\n",
    "# Model Accuracy: how often is the classifier correct?\n",
    "print(\"Accuracy:\",metrics.accuracy_score(y_test, y_pred))"
   ]
  },
  {
   "cell_type": "code",
   "execution_count": 18,
   "metadata": {},
   "outputs": [],
   "source": [
    "from sklearn.datasets import load_iris\n",
    "from sklearn.neural_network import MLPClassifier\n",
    "from sklearn.model_selection import train_test_split\n",
    "from sklearn.preprocessing import StandardScaler\n",
    "import pandas as pd\n",
    "from sklearn.metrics import plot_confusion_matrix\n",
    "import matplotlib.pyplot as plt\n",
    "sc_X = StandardScaler()\n",
    "X_trainscaled=sc_X.fit_transform(X_train)\n",
    "X_testscaled=sc_X.transform(X_test)\n",
    "MLPclf = MLPClassifier(hidden_layer_sizes=(256,128,64,32),activation=\"relu\",random_state=1).fit(X_trainscaled, y_train)\n",
    "y_pred=MLPclf.predict(X_testscaled)\n"
   ]
  },
  {
   "cell_type": "code",
   "execution_count": 19,
   "metadata": {},
   "outputs": [
    {
     "output_type": "stream",
     "name": "stdout",
     "text": [
      "0.997685631629701\n"
     ]
    }
   ],
   "source": [
    "print(MLPclf.score(X_testscaled, y_test))"
   ]
  },
  {
   "cell_type": "code",
   "execution_count": 20,
   "metadata": {},
   "outputs": [],
   "source": [
    "testC = pd.read_csv('output/C_0.csv')"
   ]
  },
  {
   "cell_type": "code",
   "execution_count": 20,
   "metadata": {},
   "outputs": [
    {
     "output_type": "execute_result",
     "data": {
      "text/plain": [
       "array([12], dtype=int64)"
      ]
     },
     "metadata": {},
     "execution_count": 20
    }
   ],
   "source": [
    "lmodel.predict(testC)"
   ]
  },
  {
   "cell_type": "code",
   "execution_count": 21,
   "metadata": {},
   "outputs": [
    {
     "output_type": "execute_result",
     "data": {
      "text/plain": [
       "array([12], dtype=int64)"
      ]
     },
     "metadata": {},
     "execution_count": 21
    }
   ],
   "source": [
    "clf.predict(testC)"
   ]
  },
  {
   "cell_type": "code",
   "execution_count": 22,
   "metadata": {},
   "outputs": [
    {
     "output_type": "execute_result",
     "data": {
      "text/plain": [
       "array([12], dtype=int64)"
      ]
     },
     "metadata": {},
     "execution_count": 22
    }
   ],
   "source": [
    "MLPclf.predict(testC)"
   ]
  },
  {
   "cell_type": "code",
   "execution_count": 23,
   "metadata": {},
   "outputs": [],
   "source": [
    "testV = pd.read_csv('output/V.csv')"
   ]
  },
  {
   "cell_type": "code",
   "execution_count": 24,
   "metadata": {},
   "outputs": [
    {
     "output_type": "execute_result",
     "data": {
      "text/plain": [
       "array([31], dtype=int64)"
      ]
     },
     "metadata": {},
     "execution_count": 24
    }
   ],
   "source": [
    "lmodel.predict(testV)"
   ]
  },
  {
   "cell_type": "code",
   "execution_count": 25,
   "metadata": {},
   "outputs": [
    {
     "output_type": "execute_result",
     "data": {
      "text/plain": [
       "array([31], dtype=int64)"
      ]
     },
     "metadata": {},
     "execution_count": 25
    }
   ],
   "source": [
    "clf.predict(testV)"
   ]
  },
  {
   "cell_type": "code",
   "execution_count": 26,
   "metadata": {},
   "outputs": [
    {
     "output_type": "execute_result",
     "data": {
      "text/plain": [
       "['models/single_svm.pkl']"
      ]
     },
     "metadata": {},
     "execution_count": 26
    }
   ],
   "source": [
    "import joblib\n",
    "joblib.dump(clf,'models/single_svm.pkl')\n"
   ]
  },
  {
   "cell_type": "code",
   "execution_count": 27,
   "metadata": {},
   "outputs": [
    {
     "output_type": "execute_result",
     "data": {
      "text/plain": [
       "['models/single_regr.pkl']"
      ]
     },
     "metadata": {},
     "execution_count": 27
    }
   ],
   "source": [
    "joblib.dump(lmodel,'models/single_regr.pkl')"
   ]
  },
  {
   "cell_type": "code",
   "execution_count": 28,
   "metadata": {},
   "outputs": [
    {
     "output_type": "execute_result",
     "data": {
      "text/plain": [
       "['models/single_mlp.pkl']"
      ]
     },
     "metadata": {},
     "execution_count": 28
    }
   ],
   "source": [
    "joblib.dump(MLPclf,'models/single_mlp.pkl')"
   ]
  },
  {
   "cell_type": "code",
   "execution_count": 29,
   "metadata": {},
   "outputs": [],
   "source": [
    "alphabets = ['0','1','2','3','4','5','6','7','8','9','A','B','C','D','E','F','G','H','I','J','K','L','M','N','O','P','Q','R','S','T','U','V','W','X','Y','Z']"
   ]
  },
  {
   "cell_type": "code",
   "execution_count": 30,
   "metadata": {},
   "outputs": [
    {
     "output_type": "execute_result",
     "data": {
      "text/plain": [
       "array([31], dtype=int64)"
      ]
     },
     "metadata": {},
     "execution_count": 30
    }
   ],
   "source": [
    "clf.predict(testV)"
   ]
  },
  {
   "cell_type": "code",
   "execution_count": 31,
   "metadata": {},
   "outputs": [
    {
     "output_type": "stream",
     "name": "stdout",
     "text": [
      "<class 'numpy.ndarray'>\n"
     ]
    }
   ],
   "source": [
    "print(type(clf.predict(testV)))"
   ]
  },
  {
   "cell_type": "code",
   "execution_count": 32,
   "metadata": {},
   "outputs": [],
   "source": [
    "x = clf.predict(testV)"
   ]
  },
  {
   "cell_type": "code",
   "execution_count": 33,
   "metadata": {},
   "outputs": [
    {
     "output_type": "execute_result",
     "data": {
      "text/plain": [
       "31"
      ]
     },
     "metadata": {},
     "execution_count": 33
    }
   ],
   "source": [
    "x.item(0)"
   ]
  },
  {
   "cell_type": "code",
   "execution_count": 34,
   "metadata": {},
   "outputs": [
    {
     "output_type": "execute_result",
     "data": {
      "text/plain": [
       "'V'"
      ]
     },
     "metadata": {},
     "execution_count": 34
    }
   ],
   "source": [
    "alphabets[clf.predict(testV).item(0)]"
   ]
  },
  {
   "cell_type": "code",
   "execution_count": 35,
   "metadata": {},
   "outputs": [],
   "source": [
    "test1 = pd.read_csv('output/1.csv')"
   ]
  },
  {
   "cell_type": "code",
   "execution_count": 36,
   "metadata": {},
   "outputs": [
    {
     "output_type": "execute_result",
     "data": {
      "text/plain": [
       "   WRIST_x_0  WRIST_y_0  WRIST_z_0  THUMB_CMC_x_0  THUMB_CMC_y_0  \\\n",
       "0    0.50852   0.790683  -0.000406       0.544076       0.681068   \n",
       "\n",
       "   THUMB_CMC_z_0  THUMB_MCP_x_0  THUMB_MCP_y_0  THUMB_MCP_z_0  THUMB_IP_x_0  \\\n",
       "0      -0.167377       0.545776       0.570889      -0.317149      0.503694   \n",
       "\n",
       "   ...  PINKY_MCP_z_0  PINKY_PIP_x_0  PINKY_PIP_y_0  PINKY_PIP_z_0  \\\n",
       "0  ...      -0.265049        0.35401       0.552125      -0.367444   \n",
       "\n",
       "   PINKY_DIP_x_0  PINKY_DIP_y_0  PINKY_DIP_z_0  PINKY_TIP_x_0  PINKY_TIP_y_0  \\\n",
       "0        0.42842       0.528749      -0.366115       0.467233       0.489294   \n",
       "\n",
       "   PINKY_TIP_z_0  \n",
       "0      -0.346806  \n",
       "\n",
       "[1 rows x 63 columns]"
      ],
      "text/html": "<div>\n<style scoped>\n    .dataframe tbody tr th:only-of-type {\n        vertical-align: middle;\n    }\n\n    .dataframe tbody tr th {\n        vertical-align: top;\n    }\n\n    .dataframe thead th {\n        text-align: right;\n    }\n</style>\n<table border=\"1\" class=\"dataframe\">\n  <thead>\n    <tr style=\"text-align: right;\">\n      <th></th>\n      <th>WRIST_x_0</th>\n      <th>WRIST_y_0</th>\n      <th>WRIST_z_0</th>\n      <th>THUMB_CMC_x_0</th>\n      <th>THUMB_CMC_y_0</th>\n      <th>THUMB_CMC_z_0</th>\n      <th>THUMB_MCP_x_0</th>\n      <th>THUMB_MCP_y_0</th>\n      <th>THUMB_MCP_z_0</th>\n      <th>THUMB_IP_x_0</th>\n      <th>...</th>\n      <th>PINKY_MCP_z_0</th>\n      <th>PINKY_PIP_x_0</th>\n      <th>PINKY_PIP_y_0</th>\n      <th>PINKY_PIP_z_0</th>\n      <th>PINKY_DIP_x_0</th>\n      <th>PINKY_DIP_y_0</th>\n      <th>PINKY_DIP_z_0</th>\n      <th>PINKY_TIP_x_0</th>\n      <th>PINKY_TIP_y_0</th>\n      <th>PINKY_TIP_z_0</th>\n    </tr>\n  </thead>\n  <tbody>\n    <tr>\n      <th>0</th>\n      <td>0.50852</td>\n      <td>0.790683</td>\n      <td>-0.000406</td>\n      <td>0.544076</td>\n      <td>0.681068</td>\n      <td>-0.167377</td>\n      <td>0.545776</td>\n      <td>0.570889</td>\n      <td>-0.317149</td>\n      <td>0.503694</td>\n      <td>...</td>\n      <td>-0.265049</td>\n      <td>0.35401</td>\n      <td>0.552125</td>\n      <td>-0.367444</td>\n      <td>0.42842</td>\n      <td>0.528749</td>\n      <td>-0.366115</td>\n      <td>0.467233</td>\n      <td>0.489294</td>\n      <td>-0.346806</td>\n    </tr>\n  </tbody>\n</table>\n<p>1 rows × 63 columns</p>\n</div>"
     },
     "metadata": {},
     "execution_count": 36
    }
   ],
   "source": [
    "test1"
   ]
  },
  {
   "cell_type": "code",
   "execution_count": 37,
   "metadata": {},
   "outputs": [
    {
     "output_type": "execute_result",
     "data": {
      "text/plain": [
       "array([1], dtype=int64)"
      ]
     },
     "metadata": {},
     "execution_count": 37
    }
   ],
   "source": [
    "clf.predict(test1)"
   ]
  },
  {
   "cell_type": "code",
   "execution_count": null,
   "metadata": {},
   "outputs": [],
   "source": []
  }
 ]
}