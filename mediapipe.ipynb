{
 "cells": [
  {
   "cell_type": "code",
   "execution_count": 4,
   "id": "fb97058b",
   "metadata": {},
   "outputs": [],
   "source": [
    "import cv2\n",
    "import mediapipe as mp\n",
    "from os import walk\n"
   ]
  },
  {
   "cell_type": "code",
   "execution_count": 5,
   "id": "45055c50",
   "metadata": {},
   "outputs": [],
   "source": [
    "alphabets = ['1','2','3','4','5','6','7','8','9','A','B','C','D','E','F','G','H','I','J','K','L','M','N','O','P','Q','R','S','T','U','V','W','X','Y','Z']"
   ]
  },
  {
   "cell_type": "code",
   "execution_count": 6,
   "id": "c52644cb",
   "metadata": {},
   "outputs": [],
   "source": [
    "dataset = {}\n",
    "for elem in alphabets:\n",
    "    file_names = []\n",
    "    complete_path = []\n",
    "    for (dirpath, dirnames, filenames) in walk('Indian/'+elem):\n",
    "        file_names.extend(filenames)\n",
    "        break\n",
    "    for file in file_names:\n",
    "        complete_path.append('Indian/'+elem+'/'+file)\n",
    "    dataset[elem] = complete_path\n",
    "    "
   ]
  },
  {
   "cell_type": "code",
   "execution_count": 7,
   "id": "e06552cc",
   "metadata": {},
   "outputs": [],
   "source": [
    "mp_drawing = mp.solutions.drawing_utils\n",
    "mp_hands = mp.solutions.hands\n",
    "IMAGE_FILES = ['Indian/A/102.jpg']"
   ]
  },
  {
   "cell_type": "code",
   "execution_count": 8,
   "id": "23de52c4",
   "metadata": {},
   "outputs": [],
   "source": [
    "header_single = ['WRIST','THUMB_CMC','THUMB_MCP','THUMB_IP','THUMB_TIP','INDEX_FINGER_MCP','INDEX_FINGER_PIP','INDEX_FINGER_DIP','INDEX_FINGER_TIP','MIDDLE_FINGER_MCP','MIDDLE_FINGER_PIP','MIDDLE_FINGER_DIP','MIDDLE_FINGER_TIP','RING_FINGER_MCP','RING_FINGER_PIP','RING_FINGER_DIP','RING_FINGER_TIP','PINKY_MCP','PINKY_PIP','PINKY_DIP','PINKY_TIP']\n",
    "# result_dict_single = {}\n",
    "# for i in header_single:\n",
    "#     result_dict_single[i] = []\n",
    "\n",
    "header_both = []\n",
    "for item in header_single:\n",
    "    header_both.append(item+'_0')\n",
    "    header_both.append(item+'_1')\n",
    "# result_dict_both = {}\n",
    "# for i in header_both:\n",
    "#     result_dict_both[i] = []\n"
   ]
  },
  {
   "cell_type": "code",
   "execution_count": 9,
   "id": "3bd31a0e",
   "metadata": {},
   "outputs": [],
   "source": [
    "import csv\n",
    "# IMAGE_FILES=['Indian/A/0.jpg']\n",
    "both_hands = ['A','B','D','E','F','G','H','J','K','M','N','P','Q','R','S','T','W','X','Y','Z']\n",
    "alphabets = both_hands\n"
   ]
  },
  {
   "cell_type": "code",
   "execution_count": 12,
   "id": "9c46a997",
   "metadata": {
    "tags": []
   },
   "outputs": [
    {
     "output_type": "stream",
     "name": "stdout",
     "text": [
      "A\n",
      "B\n",
      "D\n",
      "E\n",
      "F\n",
      "G\n",
      "H\n",
      "J\n",
      "K\n",
      "M\n",
      "N\n",
      "P\n",
      "Q\n",
      "R\n",
      "S\n",
      "T\n",
      "W\n",
      "X\n",
      "Y\n",
      "Z\n",
      "0\n",
      "21386\n"
     ]
    }
   ],
   "source": [
    "\n",
    "results_array_both = []\n",
    "results_array_single = []\n",
    "for alpha in alphabets:\n",
    "  print(alpha)\n",
    "  IMAGE_FILES=dataset[alpha]\n",
    "  with mp_hands.Hands(\n",
    "      static_image_mode=True,\n",
    "      max_num_hands=2,\n",
    "      min_detection_confidence=0.5) as hands:\n",
    "    for file in (IMAGE_FILES):\n",
    "      result_dict={}\n",
    "      image = cv2.flip(cv2.imread(file), 1)\n",
    "      results = hands.process(cv2.cvtColor(image, cv2.COLOR_BGR2RGB))\n",
    "      if not results.multi_hand_landmarks:\n",
    "        continue\n",
    "      for idx,hand_landmarks in enumerate(results.multi_hand_landmarks):\n",
    "        result_dict['WRIST_x'+'_'+str(idx)] = hand_landmarks.landmark[mp_hands.HandLandmark.WRIST].x\n",
    "        result_dict['WRIST_y'+'_'+str(idx)] = hand_landmarks.landmark[mp_hands.HandLandmark.WRIST].y\n",
    "        result_dict['WRIST_z'+'_'+str(idx)] = hand_landmarks.landmark[mp_hands.HandLandmark.WRIST].z\n",
    "        result_dict['THUMB_CMC_x'+'_'+str(idx)] = hand_landmarks.landmark[mp_hands.HandLandmark.THUMB_CMC].x\n",
    "        result_dict['THUMB_CMC_y'+'_'+str(idx)] = hand_landmarks.landmark[mp_hands.HandLandmark.THUMB_CMC].y\n",
    "        result_dict['THUMB_CMC_z'+'_'+str(idx)] = hand_landmarks.landmark[mp_hands.HandLandmark.THUMB_CMC].z\n",
    "        result_dict['THUMB_MCP_x'+'_'+str(idx)] = hand_landmarks.landmark[mp_hands.HandLandmark.THUMB_MCP].x\n",
    "        result_dict['THUMB_MCP_y'+'_'+str(idx)] = hand_landmarks.landmark[mp_hands.HandLandmark.THUMB_MCP].y\n",
    "        result_dict['THUMB_MCP_z'+'_'+str(idx)] = hand_landmarks.landmark[mp_hands.HandLandmark.THUMB_MCP].z\n",
    "        result_dict['THUMB_IP_x'+'_'+str(idx)] = hand_landmarks.landmark[mp_hands.HandLandmark.THUMB_IP].x\n",
    "        result_dict['THUMB_IP_y'+'_'+str(idx)] = hand_landmarks.landmark[mp_hands.HandLandmark.THUMB_IP].y\n",
    "        result_dict['THUMB_IP_z'+'_'+str(idx)] = hand_landmarks.landmark[mp_hands.HandLandmark.THUMB_IP].z\n",
    "        result_dict['THUMB_TIP_x'+'_'+str(idx)] = hand_landmarks.landmark[mp_hands.HandLandmark.THUMB_TIP].x\n",
    "        result_dict['THUMB_TIP_y'+'_'+str(idx)] = hand_landmarks.landmark[mp_hands.HandLandmark.THUMB_TIP].y\n",
    "        result_dict['THUMB_TIP_z'+'_'+str(idx)] = hand_landmarks.landmark[mp_hands.HandLandmark.THUMB_TIP].z\n",
    "        result_dict['INDEX_FINGER_MCP_x'+'_'+str(idx)] = hand_landmarks.landmark[mp_hands.HandLandmark.INDEX_FINGER_MCP].x\n",
    "        result_dict['INDEX_FINGER_MCP_y'+'_'+str(idx)] = hand_landmarks.landmark[mp_hands.HandLandmark.INDEX_FINGER_MCP].y\n",
    "        result_dict['INDEX_FINGER_MCP_z'+'_'+str(idx)] = hand_landmarks.landmark[mp_hands.HandLandmark.INDEX_FINGER_MCP].z\n",
    "        result_dict['INDEX_FINGER_PIP_x'+'_'+str(idx)] = hand_landmarks.landmark[mp_hands.HandLandmark.INDEX_FINGER_PIP].x\n",
    "        result_dict['INDEX_FINGER_PIP_y'+'_'+str(idx)] = hand_landmarks.landmark[mp_hands.HandLandmark.INDEX_FINGER_PIP].y\n",
    "        result_dict['INDEX_FINGER_PIP_z'+'_'+str(idx)] = hand_landmarks.landmark[mp_hands.HandLandmark.INDEX_FINGER_PIP].z\n",
    "        result_dict['INDEX_FINGER_DIP_x'+'_'+str(idx)] = hand_landmarks.landmark[mp_hands.HandLandmark.INDEX_FINGER_DIP].x\n",
    "        result_dict['INDEX_FINGER_DIP_y'+'_'+str(idx)] = hand_landmarks.landmark[mp_hands.HandLandmark.INDEX_FINGER_DIP].y\n",
    "        result_dict['INDEX_FINGER_DIP_z'+'_'+str(idx)] = hand_landmarks.landmark[mp_hands.HandLandmark.INDEX_FINGER_DIP].z\n",
    "        result_dict['INDEX_FINGER_TIP_x'+'_'+str(idx)] = hand_landmarks.landmark[mp_hands.HandLandmark.INDEX_FINGER_TIP].x\n",
    "        result_dict['INDEX_FINGER_TIP_y'+'_'+str(idx)] = hand_landmarks.landmark[mp_hands.HandLandmark.INDEX_FINGER_TIP].y\n",
    "        result_dict['INDEX_FINGER_TIP_z'+'_'+str(idx)] = hand_landmarks.landmark[mp_hands.HandLandmark.INDEX_FINGER_TIP].z\n",
    "        result_dict['MIDDLE_FINGER_MCP_x'+'_'+str(idx)] = hand_landmarks.landmark[mp_hands.HandLandmark.MIDDLE_FINGER_MCP].x\n",
    "        result_dict['MIDDLE_FINGER_MCP_y'+'_'+str(idx)] = hand_landmarks.landmark[mp_hands.HandLandmark.MIDDLE_FINGER_MCP].y\n",
    "        result_dict['MIDDLE_FINGER_MCP_z'+'_'+str(idx)] = hand_landmarks.landmark[mp_hands.HandLandmark.MIDDLE_FINGER_MCP].z\n",
    "        result_dict['MIDDLE_FINGER_PIP_x'+'_'+str(idx)] = hand_landmarks.landmark[mp_hands.HandLandmark.MIDDLE_FINGER_PIP].x\n",
    "        result_dict['MIDDLE_FINGER_PIP_y'+'_'+str(idx)] = hand_landmarks.landmark[mp_hands.HandLandmark.MIDDLE_FINGER_PIP].y\n",
    "        result_dict['MIDDLE_FINGER_PIP_z'+'_'+str(idx)] = hand_landmarks.landmark[mp_hands.HandLandmark.MIDDLE_FINGER_PIP].z\n",
    "        result_dict['MIDDLE_FINGER_DIP_x'+'_'+str(idx)] = hand_landmarks.landmark[mp_hands.HandLandmark.MIDDLE_FINGER_DIP].x\n",
    "        result_dict['MIDDLE_FINGER_DIP_y'+'_'+str(idx)] = hand_landmarks.landmark[mp_hands.HandLandmark.MIDDLE_FINGER_DIP].y\n",
    "        result_dict['MIDDLE_FINGER_DIP_z'+'_'+str(idx)] = hand_landmarks.landmark[mp_hands.HandLandmark.MIDDLE_FINGER_DIP].z\n",
    "        result_dict['MIDDLE_FINGER_TIP_x'+'_'+str(idx)] = hand_landmarks.landmark[mp_hands.HandLandmark.MIDDLE_FINGER_TIP].x\n",
    "        result_dict['MIDDLE_FINGER_TIP_y'+'_'+str(idx)] = hand_landmarks.landmark[mp_hands.HandLandmark.MIDDLE_FINGER_TIP].y\n",
    "        result_dict['MIDDLE_FINGER_TIP_z'+'_'+str(idx)] = hand_landmarks.landmark[mp_hands.HandLandmark.MIDDLE_FINGER_TIP].z\n",
    "        result_dict['RING_FINGER_MCP_x'+'_'+str(idx)] = hand_landmarks.landmark[mp_hands.HandLandmark.RING_FINGER_MCP].x\n",
    "        result_dict['RING_FINGER_MCP_y'+'_'+str(idx)] = hand_landmarks.landmark[mp_hands.HandLandmark.RING_FINGER_MCP].y\n",
    "        result_dict['RING_FINGER_MCP_z'+'_'+str(idx)] = hand_landmarks.landmark[mp_hands.HandLandmark.RING_FINGER_MCP].z\n",
    "        result_dict['RING_FINGER_PIP_x'+'_'+str(idx)] = hand_landmarks.landmark[mp_hands.HandLandmark.RING_FINGER_PIP].x\n",
    "        result_dict['RING_FINGER_PIP_y'+'_'+str(idx)] = hand_landmarks.landmark[mp_hands.HandLandmark.RING_FINGER_PIP].y\n",
    "        result_dict['RING_FINGER_PIP_z'+'_'+str(idx)] = hand_landmarks.landmark[mp_hands.HandLandmark.RING_FINGER_PIP].z\n",
    "        result_dict['RING_FINGER_DIP_x'+'_'+str(idx)] = hand_landmarks.landmark[mp_hands.HandLandmark.RING_FINGER_DIP].x\n",
    "        result_dict['RING_FINGER_DIP_y'+'_'+str(idx)] = hand_landmarks.landmark[mp_hands.HandLandmark.RING_FINGER_DIP].y\n",
    "        result_dict['RING_FINGER_DIP_z'+'_'+str(idx)] = hand_landmarks.landmark[mp_hands.HandLandmark.RING_FINGER_DIP].z\n",
    "        result_dict['RING_FINGER_TIP_x'+'_'+str(idx)] = hand_landmarks.landmark[mp_hands.HandLandmark.RING_FINGER_TIP].x\n",
    "        result_dict['RING_FINGER_TIP_y'+'_'+str(idx)] = hand_landmarks.landmark[mp_hands.HandLandmark.RING_FINGER_TIP].y\n",
    "        result_dict['RING_FINGER_TIP_z'+'_'+str(idx)] = hand_landmarks.landmark[mp_hands.HandLandmark.RING_FINGER_TIP].z\n",
    "        result_dict['PINKY_MCP_x'+'_'+str(idx)] = hand_landmarks.landmark[mp_hands.HandLandmark.PINKY_MCP].x\n",
    "        result_dict['PINKY_MCP_y'+'_'+str(idx)] = hand_landmarks.landmark[mp_hands.HandLandmark.PINKY_MCP].y\n",
    "        result_dict['PINKY_MCP_z'+'_'+str(idx)] = hand_landmarks.landmark[mp_hands.HandLandmark.PINKY_MCP].z\n",
    "        result_dict['PINKY_PIP_x'+'_'+str(idx)] = hand_landmarks.landmark[mp_hands.HandLandmark.PINKY_PIP].x\n",
    "        result_dict['PINKY_PIP_y'+'_'+str(idx)] = hand_landmarks.landmark[mp_hands.HandLandmark.PINKY_PIP].y\n",
    "        result_dict['PINKY_PIP_z'+'_'+str(idx)] = hand_landmarks.landmark[mp_hands.HandLandmark.PINKY_PIP].z\n",
    "        result_dict['PINKY_DIP_x'+'_'+str(idx)] = hand_landmarks.landmark[mp_hands.HandLandmark.PINKY_DIP].x\n",
    "        result_dict['PINKY_DIP_y'+'_'+str(idx)] = hand_landmarks.landmark[mp_hands.HandLandmark.PINKY_DIP].y\n",
    "        result_dict['PINKY_DIP_z'+'_'+str(idx)] = hand_landmarks.landmark[mp_hands.HandLandmark.PINKY_DIP].z\n",
    "        result_dict['PINKY_TIP_x'+'_'+str(idx)] = hand_landmarks.landmark[mp_hands.HandLandmark.PINKY_TIP].x\n",
    "        result_dict['PINKY_TIP_y'+'_'+str(idx)] = hand_landmarks.landmark[mp_hands.HandLandmark.PINKY_TIP].y\n",
    "        result_dict['PINKY_TIP_z'+'_'+str(idx)] = hand_landmarks.landmark[mp_hands.HandLandmark.PINKY_TIP].z\n",
    "      result_dict['CLASS'] = alpha\n",
    "      if(alpha in both_hands):\n",
    "        results_array_both.append(result_dict)\n",
    "      else:\n",
    "        results_array_single.append(result_dict)\n",
    "print(len(results_array_single))\n",
    "print(len(results_array_both))"
   ]
  },
  {
   "cell_type": "code",
   "execution_count": 13,
   "id": "9cc03cf0",
   "metadata": {
    "tags": []
   },
   "outputs": [
    {
     "output_type": "stream",
     "name": "stdout",
     "text": [
      "dict_keys(['WRIST_x_0', 'WRIST_y_0', 'WRIST_z_0', 'THUMB_CMC_x_0', 'THUMB_CMC_y_0', 'THUMB_CMC_z_0', 'THUMB_MCP_x_0', 'THUMB_MCP_y_0', 'THUMB_MCP_z_0', 'THUMB_IP_x_0', 'THUMB_IP_y_0', 'THUMB_IP_z_0', 'THUMB_TIP_x_0', 'THUMB_TIP_y_0', 'THUMB_TIP_z_0', 'INDEX_FINGER_MCP_x_0', 'INDEX_FINGER_MCP_y_0', 'INDEX_FINGER_MCP_z_0', 'INDEX_FINGER_PIP_x_0', 'INDEX_FINGER_PIP_y_0', 'INDEX_FINGER_PIP_z_0', 'INDEX_FINGER_DIP_x_0', 'INDEX_FINGER_DIP_y_0', 'INDEX_FINGER_DIP_z_0', 'INDEX_FINGER_TIP_x_0', 'INDEX_FINGER_TIP_y_0', 'INDEX_FINGER_TIP_z_0', 'MIDDLE_FINGER_MCP_x_0', 'MIDDLE_FINGER_MCP_y_0', 'MIDDLE_FINGER_MCP_z_0', 'MIDDLE_FINGER_PIP_x_0', 'MIDDLE_FINGER_PIP_y_0', 'MIDDLE_FINGER_PIP_z_0', 'MIDDLE_FINGER_DIP_x_0', 'MIDDLE_FINGER_DIP_y_0', 'MIDDLE_FINGER_DIP_z_0', 'MIDDLE_FINGER_TIP_x_0', 'MIDDLE_FINGER_TIP_y_0', 'MIDDLE_FINGER_TIP_z_0', 'RING_FINGER_MCP_x_0', 'RING_FINGER_MCP_y_0', 'RING_FINGER_MCP_z_0', 'RING_FINGER_PIP_x_0', 'RING_FINGER_PIP_y_0', 'RING_FINGER_PIP_z_0', 'RING_FINGER_DIP_x_0', 'RING_FINGER_DIP_y_0', 'RING_FINGER_DIP_z_0', 'RING_FINGER_TIP_x_0', 'RING_FINGER_TIP_y_0', 'RING_FINGER_TIP_z_0', 'PINKY_MCP_x_0', 'PINKY_MCP_y_0', 'PINKY_MCP_z_0', 'PINKY_PIP_x_0', 'PINKY_PIP_y_0', 'PINKY_PIP_z_0', 'PINKY_DIP_x_0', 'PINKY_DIP_y_0', 'PINKY_DIP_z_0', 'PINKY_TIP_x_0', 'PINKY_TIP_y_0', 'PINKY_TIP_z_0', 'WRIST_x_1', 'WRIST_y_1', 'WRIST_z_1', 'THUMB_CMC_x_1', 'THUMB_CMC_y_1', 'THUMB_CMC_z_1', 'THUMB_MCP_x_1', 'THUMB_MCP_y_1', 'THUMB_MCP_z_1', 'THUMB_IP_x_1', 'THUMB_IP_y_1', 'THUMB_IP_z_1', 'THUMB_TIP_x_1', 'THUMB_TIP_y_1', 'THUMB_TIP_z_1', 'INDEX_FINGER_MCP_x_1', 'INDEX_FINGER_MCP_y_1', 'INDEX_FINGER_MCP_z_1', 'INDEX_FINGER_PIP_x_1', 'INDEX_FINGER_PIP_y_1', 'INDEX_FINGER_PIP_z_1', 'INDEX_FINGER_DIP_x_1', 'INDEX_FINGER_DIP_y_1', 'INDEX_FINGER_DIP_z_1', 'INDEX_FINGER_TIP_x_1', 'INDEX_FINGER_TIP_y_1', 'INDEX_FINGER_TIP_z_1', 'MIDDLE_FINGER_MCP_x_1', 'MIDDLE_FINGER_MCP_y_1', 'MIDDLE_FINGER_MCP_z_1', 'MIDDLE_FINGER_PIP_x_1', 'MIDDLE_FINGER_PIP_y_1', 'MIDDLE_FINGER_PIP_z_1', 'MIDDLE_FINGER_DIP_x_1', 'MIDDLE_FINGER_DIP_y_1', 'MIDDLE_FINGER_DIP_z_1', 'MIDDLE_FINGER_TIP_x_1', 'MIDDLE_FINGER_TIP_y_1', 'MIDDLE_FINGER_TIP_z_1', 'RING_FINGER_MCP_x_1', 'RING_FINGER_MCP_y_1', 'RING_FINGER_MCP_z_1', 'RING_FINGER_PIP_x_1', 'RING_FINGER_PIP_y_1', 'RING_FINGER_PIP_z_1', 'RING_FINGER_DIP_x_1', 'RING_FINGER_DIP_y_1', 'RING_FINGER_DIP_z_1', 'RING_FINGER_TIP_x_1', 'RING_FINGER_TIP_y_1', 'RING_FINGER_TIP_z_1', 'PINKY_MCP_x_1', 'PINKY_MCP_y_1', 'PINKY_MCP_z_1', 'PINKY_PIP_x_1', 'PINKY_PIP_y_1', 'PINKY_PIP_z_1', 'PINKY_DIP_x_1', 'PINKY_DIP_y_1', 'PINKY_DIP_z_1', 'PINKY_TIP_x_1', 'PINKY_TIP_y_1', 'PINKY_TIP_z_1', 'CLASS'])\n"
     ]
    }
   ],
   "source": [
    "import csv\n",
    "keys = results_array_both[0].keys()\n",
    "print(keys)\n",
    "with open('output/both.csv', 'w', newline='')  as output_file:\n",
    "    dict_writer = csv.DictWriter(output_file, keys)\n",
    "    dict_writer.writeheader()\n",
    "    dict_writer.writerows(results_array_both)\n",
    "# keys = results_array_both[0].keys()\n",
    "# with open('output/both.csv', 'w', newline='')  as output_file:\n",
    "#     dict_writer = csv.DictWriter(output_file, keys)\n",
    "#     dict_writer.writeheader()\n",
    "#     dict_writer.writerows(results_array_both)"
   ]
  },
  {
   "cell_type": "code",
   "execution_count": null,
   "metadata": {},
   "outputs": [],
   "source": []
  }
 ],
 "metadata": {
  "kernelspec": {
   "display_name": "detection",
   "language": "python",
   "name": "detection"
  },
  "language_info": {
   "codemirror_mode": {
    "name": "ipython",
    "version": 3
   },
   "file_extension": ".py",
   "mimetype": "text/x-python",
   "name": "python",
   "nbconvert_exporter": "python",
   "pygments_lexer": "ipython3",
   "version": "3.8.10"
  }
 },
 "nbformat": 4,
 "nbformat_minor": 5
}