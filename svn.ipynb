{
 "cells": [
  {
   "cell_type": "code",
   "execution_count": 2,
   "id": "57185178",
   "metadata": {},
   "outputs": [],
   "source": [
    "import numpy as np\n",
    "import pandas as pd\n",
    "import matplotlib.pyplot as plt\n",
    "import seaborn as sns \n",
    "from sklearn.metrics import confusion_matrix\n",
    "from sklearn.metrics import accuracy_score\n",
    "import sys\n",
    "import warnings\n",
    "\n",
    "if not sys.warnoptions:\n",
    "    warnings.simplefilter(\"ignore\")"
   ]
  },
  {
   "cell_type": "code",
   "execution_count": 3,
   "id": "cd213433",
   "metadata": {},
   "outputs": [],
   "source": [
    "data = pd.read_csv('data/both.csv')"
   ]
  },
  {
   "cell_type": "code",
   "execution_count": 4,
   "id": "0c6140cb",
   "metadata": {},
   "outputs": [
    {
     "output_type": "execute_result",
     "data": {
      "text/plain": [
       "   WRIST_x_0  WRIST_y_0  WRIST_z_0  THUMB_CMC_x_0  THUMB_CMC_y_0  \\\n",
       "0   0.842034   0.615982   0.000073       0.786678       0.532512   \n",
       "1   0.845142   0.617416   0.000078       0.790946       0.533602   \n",
       "2   0.848125   0.608161  -0.000129       0.783306       0.526929   \n",
       "3   0.831402   0.603912   0.000120       0.752286       0.527703   \n",
       "4   0.148650   0.596327   0.000015       0.219593       0.512971   \n",
       "\n",
       "   THUMB_CMC_z_0  THUMB_MCP_x_0  THUMB_MCP_y_0  THUMB_MCP_z_0  THUMB_IP_x_0  \\\n",
       "0       0.003552       0.714849       0.485646      -0.047130      0.651691   \n",
       "1      -0.000602       0.723400       0.489584      -0.057440      0.666784   \n",
       "2       0.001680       0.700106       0.480671      -0.051200      0.631718   \n",
       "3      -0.009510       0.679841       0.489973      -0.072688      0.625047   \n",
       "4      -0.028349       0.309556       0.445312      -0.113296      0.374157   \n",
       "\n",
       "   ...  PINKY_PIP_x_1  PINKY_PIP_y_1  PINKY_PIP_z_1  PINKY_DIP_x_1  \\\n",
       "0  ...       0.239249       0.683961      -0.434966       0.242846   \n",
       "1  ...       0.236464       0.687991      -0.423164       0.246515   \n",
       "2  ...       0.241202       0.684458      -0.417048       0.241420   \n",
       "3  ...       0.250462       0.720215      -0.435492       0.239459   \n",
       "4  ...       0.826576       0.643474      -0.411244       0.766859   \n",
       "\n",
       "   PINKY_DIP_y_1  PINKY_DIP_z_1  PINKY_TIP_x_1  PINKY_TIP_y_1  PINKY_TIP_z_1  \\\n",
       "0       0.691651      -0.449079       0.239898       0.683380      -0.473893   \n",
       "1       0.693188      -0.418437       0.243938       0.688330      -0.426309   \n",
       "2       0.688010      -0.432026       0.236321       0.673273      -0.459042   \n",
       "3       0.712629      -0.403031       0.220165       0.685930      -0.394610   \n",
       "4       0.673322      -0.442801       0.710410       0.684412      -0.465401   \n",
       "\n",
       "   CLASS  \n",
       "0      A  \n",
       "1      A  \n",
       "2      A  \n",
       "3      A  \n",
       "4      A  \n",
       "\n",
       "[5 rows x 127 columns]"
      ],
      "text/html": "<div>\n<style scoped>\n    .dataframe tbody tr th:only-of-type {\n        vertical-align: middle;\n    }\n\n    .dataframe tbody tr th {\n        vertical-align: top;\n    }\n\n    .dataframe thead th {\n        text-align: right;\n    }\n</style>\n<table border=\"1\" class=\"dataframe\">\n  <thead>\n    <tr style=\"text-align: right;\">\n      <th></th>\n      <th>WRIST_x_0</th>\n      <th>WRIST_y_0</th>\n      <th>WRIST_z_0</th>\n      <th>THUMB_CMC_x_0</th>\n      <th>THUMB_CMC_y_0</th>\n      <th>THUMB_CMC_z_0</th>\n      <th>THUMB_MCP_x_0</th>\n      <th>THUMB_MCP_y_0</th>\n      <th>THUMB_MCP_z_0</th>\n      <th>THUMB_IP_x_0</th>\n      <th>...</th>\n      <th>PINKY_PIP_x_1</th>\n      <th>PINKY_PIP_y_1</th>\n      <th>PINKY_PIP_z_1</th>\n      <th>PINKY_DIP_x_1</th>\n      <th>PINKY_DIP_y_1</th>\n      <th>PINKY_DIP_z_1</th>\n      <th>PINKY_TIP_x_1</th>\n      <th>PINKY_TIP_y_1</th>\n      <th>PINKY_TIP_z_1</th>\n      <th>CLASS</th>\n    </tr>\n  </thead>\n  <tbody>\n    <tr>\n      <th>0</th>\n      <td>0.842034</td>\n      <td>0.615982</td>\n      <td>0.000073</td>\n      <td>0.786678</td>\n      <td>0.532512</td>\n      <td>0.003552</td>\n      <td>0.714849</td>\n      <td>0.485646</td>\n      <td>-0.047130</td>\n      <td>0.651691</td>\n      <td>...</td>\n      <td>0.239249</td>\n      <td>0.683961</td>\n      <td>-0.434966</td>\n      <td>0.242846</td>\n      <td>0.691651</td>\n      <td>-0.449079</td>\n      <td>0.239898</td>\n      <td>0.683380</td>\n      <td>-0.473893</td>\n      <td>A</td>\n    </tr>\n    <tr>\n      <th>1</th>\n      <td>0.845142</td>\n      <td>0.617416</td>\n      <td>0.000078</td>\n      <td>0.790946</td>\n      <td>0.533602</td>\n      <td>-0.000602</td>\n      <td>0.723400</td>\n      <td>0.489584</td>\n      <td>-0.057440</td>\n      <td>0.666784</td>\n      <td>...</td>\n      <td>0.236464</td>\n      <td>0.687991</td>\n      <td>-0.423164</td>\n      <td>0.246515</td>\n      <td>0.693188</td>\n      <td>-0.418437</td>\n      <td>0.243938</td>\n      <td>0.688330</td>\n      <td>-0.426309</td>\n      <td>A</td>\n    </tr>\n    <tr>\n      <th>2</th>\n      <td>0.848125</td>\n      <td>0.608161</td>\n      <td>-0.000129</td>\n      <td>0.783306</td>\n      <td>0.526929</td>\n      <td>0.001680</td>\n      <td>0.700106</td>\n      <td>0.480671</td>\n      <td>-0.051200</td>\n      <td>0.631718</td>\n      <td>...</td>\n      <td>0.241202</td>\n      <td>0.684458</td>\n      <td>-0.417048</td>\n      <td>0.241420</td>\n      <td>0.688010</td>\n      <td>-0.432026</td>\n      <td>0.236321</td>\n      <td>0.673273</td>\n      <td>-0.459042</td>\n      <td>A</td>\n    </tr>\n    <tr>\n      <th>3</th>\n      <td>0.831402</td>\n      <td>0.603912</td>\n      <td>0.000120</td>\n      <td>0.752286</td>\n      <td>0.527703</td>\n      <td>-0.009510</td>\n      <td>0.679841</td>\n      <td>0.489973</td>\n      <td>-0.072688</td>\n      <td>0.625047</td>\n      <td>...</td>\n      <td>0.250462</td>\n      <td>0.720215</td>\n      <td>-0.435492</td>\n      <td>0.239459</td>\n      <td>0.712629</td>\n      <td>-0.403031</td>\n      <td>0.220165</td>\n      <td>0.685930</td>\n      <td>-0.394610</td>\n      <td>A</td>\n    </tr>\n    <tr>\n      <th>4</th>\n      <td>0.148650</td>\n      <td>0.596327</td>\n      <td>0.000015</td>\n      <td>0.219593</td>\n      <td>0.512971</td>\n      <td>-0.028349</td>\n      <td>0.309556</td>\n      <td>0.445312</td>\n      <td>-0.113296</td>\n      <td>0.374157</td>\n      <td>...</td>\n      <td>0.826576</td>\n      <td>0.643474</td>\n      <td>-0.411244</td>\n      <td>0.766859</td>\n      <td>0.673322</td>\n      <td>-0.442801</td>\n      <td>0.710410</td>\n      <td>0.684412</td>\n      <td>-0.465401</td>\n      <td>A</td>\n    </tr>\n  </tbody>\n</table>\n<p>5 rows × 127 columns</p>\n</div>"
     },
     "metadata": {},
     "execution_count": 4
    }
   ],
   "source": [
    "data.head()"
   ]
  },
  {
   "cell_type": "code",
   "execution_count": 5,
   "id": "843b2b0a",
   "metadata": {},
   "outputs": [],
   "source": [
    "data.tail()\n",
    "data = data.fillna(0)"
   ]
  },
  {
   "cell_type": "code",
   "execution_count": 6,
   "id": "bb1b6ea3",
   "metadata": {},
   "outputs": [],
   "source": [
    "data['CLASS'] = data['CLASS'].replace({\n",
    "    '1':1,\n",
    "    '2':2,\n",
    "    '3':3,\n",
    "    '4':4,\n",
    "    '5':5,\n",
    "    '6':6,\n",
    "    '7':7,\n",
    "    '8':8,\n",
    "    '9':9,\n",
    "    'A':10,\n",
    "    'B':11,\n",
    "    'C':12,\n",
    "    'D':13,\n",
    "    'E':14,\n",
    "    'F':15,\n",
    "    'G':16,\n",
    "    'H':17,\n",
    "    'I':18,\n",
    "    'J':19,\n",
    "    'K':20,\n",
    "    'L':21,\n",
    "    'M':22,\n",
    "    'N':23,\n",
    "    'O':24,\n",
    "    'P':25,\n",
    "    'Q':26,\n",
    "    'R':27,\n",
    "    'S':28,\n",
    "    'T':29,\n",
    "    'U':30,\n",
    "    'V':31,\n",
    "    'W':32,\n",
    "    'X':33,\n",
    "    'Y':34,\n",
    "    'Z':35\n",
    "})"
   ]
  },
  {
   "cell_type": "code",
   "execution_count": 7,
   "id": "67c6bdd7",
   "metadata": {},
   "outputs": [],
   "source": [
    "X=data.copy()"
   ]
  },
  {
   "cell_type": "code",
   "execution_count": 8,
   "id": "96a7ad3f",
   "metadata": {},
   "outputs": [],
   "source": [
    "y = X.pop('CLASS')"
   ]
  },
  {
   "cell_type": "code",
   "execution_count": 9,
   "id": "ba420d72",
   "metadata": {},
   "outputs": [
    {
     "output_type": "execute_result",
     "data": {
      "text/plain": [
       "0    10\n",
       "1    10\n",
       "2    10\n",
       "3    10\n",
       "4    10\n",
       "Name: CLASS, dtype: int64"
      ]
     },
     "metadata": {},
     "execution_count": 9
    }
   ],
   "source": [
    "y.head()"
   ]
  },
  {
   "cell_type": "code",
   "execution_count": 10,
   "id": "e5f2dcce",
   "metadata": {},
   "outputs": [
    {
     "output_type": "execute_result",
     "data": {
      "text/plain": [
       "array([10, 11, 13, 14, 15, 16, 17, 19, 20, 22, 23, 25, 26, 27, 28, 29, 32,\n",
       "       33, 34, 35], dtype=int64)"
      ]
     },
     "metadata": {},
     "execution_count": 10
    }
   ],
   "source": [
    "y.unique()"
   ]
  },
  {
   "cell_type": "code",
   "execution_count": 11,
   "id": "f38a67c9",
   "metadata": {},
   "outputs": [],
   "source": [
    "from sklearn.model_selection import train_test_split\n",
    "X_train,X_test,y_train,y_test=train_test_split(X,y,stratify=y,test_size=0.3)"
   ]
  },
  {
   "cell_type": "code",
   "execution_count": 12,
   "id": "dbc02ecc",
   "metadata": {},
   "outputs": [
    {
     "output_type": "execute_result",
     "data": {
      "text/plain": [
       "LogisticRegression(max_iter=120)"
      ]
     },
     "metadata": {},
     "execution_count": 12
    }
   ],
   "source": [
    "from sklearn.linear_model import LogisticRegression\n",
    "model = LogisticRegression(max_iter=120)\n",
    "model.fit(X_train,y_train)"
   ]
  },
  {
   "cell_type": "code",
   "execution_count": 13,
   "id": "ed322c1b",
   "metadata": {},
   "outputs": [
    {
     "output_type": "execute_result",
     "data": {
      "text/plain": [
       "array([15, 11, 28, ..., 29, 11, 17], dtype=int64)"
      ]
     },
     "metadata": {},
     "execution_count": 13
    }
   ],
   "source": [
    "model.predict(X_test)"
   ]
  },
  {
   "cell_type": "code",
   "execution_count": 14,
   "id": "0342d367",
   "metadata": {},
   "outputs": [
    {
     "output_type": "execute_result",
     "data": {
      "text/plain": [
       "0.984759671746776"
      ]
     },
     "metadata": {},
     "execution_count": 14
    }
   ],
   "source": [
    "model.score(X_test,y_test)"
   ]
  },
  {
   "cell_type": "code",
   "execution_count": 15,
   "id": "211fbadd",
   "metadata": {},
   "outputs": [],
   "source": [
    "from sklearn import svm"
   ]
  },
  {
   "cell_type": "code",
   "execution_count": 16,
   "id": "6c24ac2f",
   "metadata": {},
   "outputs": [],
   "source": [
    "#Create a svm Classifier\n",
    "clf = svm.SVC(kernel='linear') # Linear Kernel"
   ]
  },
  {
   "cell_type": "code",
   "execution_count": 17,
   "id": "d9213d21",
   "metadata": {},
   "outputs": [
    {
     "output_type": "execute_result",
     "data": {
      "text/plain": [
       "SVC(kernel='linear')"
      ]
     },
     "metadata": {},
     "execution_count": 17
    }
   ],
   "source": [
    "clf.fit(X_train, y_train)"
   ]
  },
  {
   "cell_type": "code",
   "execution_count": 18,
   "id": "cbc87416",
   "metadata": {},
   "outputs": [],
   "source": [
    "y_pred = clf.predict(X_test)"
   ]
  },
  {
   "cell_type": "code",
   "execution_count": 19,
   "id": "b477a7dc",
   "metadata": {},
   "outputs": [
    {
     "output_type": "stream",
     "name": "stdout",
     "text": [
      "Accuracy: 0.9948710433763188\n"
     ]
    }
   ],
   "source": [
    "from sklearn import metrics\n",
    "\n",
    "# Model Accuracy: how often is the classifier correct?\n",
    "print(\"Accuracy:\",metrics.accuracy_score(y_test, y_pred))"
   ]
  },
  {
   "cell_type": "code",
   "execution_count": 20,
   "metadata": {},
   "outputs": [],
   "source": [
    "testA2 = pd.read_csv('output/A_2.csv')"
   ]
  },
  {
   "cell_type": "code",
   "execution_count": 22,
   "metadata": {},
   "outputs": [
    {
     "output_type": "execute_result",
     "data": {
      "text/plain": [
       "array([10], dtype=int64)"
      ]
     },
     "metadata": {},
     "execution_count": 22
    }
   ],
   "source": [
    "clf.predict(testA2)"
   ]
  },
  {
   "cell_type": "code",
   "execution_count": 20,
   "metadata": {},
   "outputs": [],
   "source": [
    "from sklearn.datasets import load_iris\n",
    "from sklearn.neural_network import MLPClassifier\n",
    "from sklearn.model_selection import train_test_split\n",
    "from sklearn.preprocessing import StandardScaler\n",
    "import pandas as pd\n",
    "from sklearn.metrics import plot_confusion_matrix\n",
    "import matplotlib.pyplot as plt"
   ]
  },
  {
   "cell_type": "code",
   "execution_count": 21,
   "metadata": {},
   "outputs": [],
   "source": [
    "sc_X = StandardScaler()\n",
    "X_trainscaled=sc_X.fit_transform(X_train)\n",
    "X_testscaled=sc_X.transform(X_test)"
   ]
  },
  {
   "cell_type": "code",
   "execution_count": 22,
   "metadata": {},
   "outputs": [],
   "source": [
    "MLPclf = MLPClassifier(hidden_layer_sizes=(256,128,64,32),activation=\"relu\",random_state=1).fit(X_trainscaled, y_train)\n",
    "y_pred=MLPclf.predict(X_testscaled)\n"
   ]
  },
  {
   "cell_type": "code",
   "execution_count": 23,
   "metadata": {},
   "outputs": [
    {
     "output_type": "stream",
     "name": "stdout",
     "text": [
      "0.9956037514654161\n"
     ]
    }
   ],
   "source": [
    "print(MLPclf.score(X_testscaled, y_test))"
   ]
  },
  {
   "cell_type": "code",
   "execution_count": 24,
   "metadata": {},
   "outputs": [],
   "source": [
    "testA = pd.read_csv('output/A_2.csv')\n",
    "testA = testA.fillna(0)"
   ]
  },
  {
   "cell_type": "code",
   "execution_count": 25,
   "metadata": {},
   "outputs": [
    {
     "output_type": "execute_result",
     "data": {
      "text/plain": [
       "array([10], dtype=int64)"
      ]
     },
     "metadata": {},
     "execution_count": 25
    }
   ],
   "source": [
    "clf.predict(testA)"
   ]
  },
  {
   "cell_type": "code",
   "execution_count": 26,
   "metadata": {},
   "outputs": [
    {
     "output_type": "execute_result",
     "data": {
      "text/plain": [
       "array([10], dtype=int64)"
      ]
     },
     "metadata": {},
     "execution_count": 26
    }
   ],
   "source": [
    "MLPclf.predict(testA)"
   ]
  },
  {
   "cell_type": "code",
   "execution_count": 27,
   "metadata": {},
   "outputs": [
    {
     "output_type": "execute_result",
     "data": {
      "text/plain": [
       "array([10], dtype=int64)"
      ]
     },
     "metadata": {},
     "execution_count": 27
    }
   ],
   "source": [
    "model.predict(testA)"
   ]
  },
  {
   "cell_type": "code",
   "execution_count": 28,
   "metadata": {},
   "outputs": [
    {
     "output_type": "execute_result",
     "data": {
      "text/plain": [
       "['models/both_regr.pkl']"
      ]
     },
     "metadata": {},
     "execution_count": 28
    }
   ],
   "source": [
    "import joblib\n",
    "joblib.dump(model,'models/both_regr.pkl')"
   ]
  },
  {
   "cell_type": "code",
   "execution_count": 29,
   "metadata": {},
   "outputs": [
    {
     "output_type": "execute_result",
     "data": {
      "text/plain": [
       "['models/both_svm.pkl']"
      ]
     },
     "metadata": {},
     "execution_count": 29
    }
   ],
   "source": [
    "joblib.dump(clf,'models/both_svm.pkl')"
   ]
  },
  {
   "cell_type": "code",
   "execution_count": 30,
   "metadata": {},
   "outputs": [
    {
     "output_type": "execute_result",
     "data": {
      "text/plain": [
       "['models/both_mlp.pkl']"
      ]
     },
     "metadata": {},
     "execution_count": 30
    }
   ],
   "source": [
    "joblib.dump(MLPclf,'models/both_mlp.pkl')"
   ]
  },
  {
   "cell_type": "code",
   "execution_count": 1,
   "metadata": {},
   "outputs": [
    {
     "output_type": "error",
     "ename": "NameError",
     "evalue": "name 'pd' is not defined",
     "traceback": [
      "\u001b[1;31m---------------------------------------------------------------------------\u001b[0m",
      "\u001b[1;31mNameError\u001b[0m                                 Traceback (most recent call last)",
      "\u001b[1;32m<ipython-input-1-d767a61f3b0e>\u001b[0m in \u001b[0;36m<module>\u001b[1;34m\u001b[0m\n\u001b[1;32m----> 1\u001b[1;33m \u001b[0mtestA2\u001b[0m \u001b[1;33m=\u001b[0m \u001b[0mpd\u001b[0m\u001b[1;33m.\u001b[0m\u001b[0mread_csv\u001b[0m\u001b[1;33m(\u001b[0m\u001b[1;34m'output/A_2.csv'\u001b[0m\u001b[1;33m)\u001b[0m\u001b[1;33m\u001b[0m\u001b[1;33m\u001b[0m\u001b[0m\n\u001b[0m",
      "\u001b[1;31mNameError\u001b[0m: name 'pd' is not defined"
     ]
    }
   ],
   "source": [
    "testA2 = pd.read_csv('output/A_2.csv')"
   ]
  },
  {
   "cell_type": "code",
   "execution_count": null,
   "metadata": {},
   "outputs": [],
   "source": []
  }
 ],
 "metadata": {
  "kernelspec": {
   "display_name": "detection",
   "language": "python",
   "name": "detection"
  },
  "language_info": {
   "codemirror_mode": {
    "name": "ipython",
    "version": 3
   },
   "file_extension": ".py",
   "mimetype": "text/x-python",
   "name": "python",
   "nbconvert_exporter": "python",
   "pygments_lexer": "ipython3",
   "version": "3.8.10"
  }
 },
 "nbformat": 4,
 "nbformat_minor": 5
}